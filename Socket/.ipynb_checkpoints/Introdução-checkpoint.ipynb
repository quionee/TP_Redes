{
 "cells": [
  {
   "cell_type": "markdown",
   "metadata": {},
   "source": [
    "# Comunicação ponto-a-ponto confiável com detecção e correção de erros"
   ]
  },
  {
   "cell_type": "markdown",
   "metadata": {},
   "source": [
    "## Introdução"
   ]
  },
  {
   "cell_type": "markdown",
   "metadata": {},
   "source": [
    "O objetivo desse trabalho é implementar um protocolo confiável para comunicação entre dois computadores usando a linguagem Python. Para demonstrar o funcionamento do código, as células desse notebook devem ser executadas na ordem em que aparecem e dois jupyter-notebooks devem ser abertos, um para ser o servidor e outro para ser o cliente. <br>\n",
    "O protocolo implementado emprega a transmissão *stop-and-wait* onde o emissor envia um quadro e aguarda a confirmação do receptor antes de enviar o próximo. Para a detecção de erros foi implementado o método *Cyclic Redundancy Check* (CRC), ou, em tradução livre, Verificação Cíclica de Redundância.\n"
   ]
  },
  {
   "cell_type": "markdown",
   "metadata": {},
   "source": [
    "## Detecção de Erros "
   ]
  },
  {
   "cell_type": "markdown",
   "metadata": {},
   "source": [
    "Para a detecção de erros foi usado o método *Cyclic Redundancy Check* (CRC), ou, em tradução livre, Verificação Cíclica de Redundância com o polinômio: \n",
    "$$x^{16} + x^{15} + x^{2} + 1$$\n",
    "Para facilitar sua posterior modificação, o polinômio em sua forma binária foi instanciado como uma constante:"
   ]
  },
  {
   "cell_type": "code",
   "execution_count": 1,
   "metadata": {},
   "outputs": [],
   "source": [
    "POLINOMIO = \"11000000000000101\""
   ]
  },
  {
   "cell_type": "markdown",
   "metadata": {},
   "source": [
    "Foi criada uma classe para controle do CRC que tem como atributos o polinômio e seu grau. Os métodos dessa classe são basicamente dois:\n",
    "<ul>\n",
    "    <li>**geraCRC()**, que recebe uma sequência de bits correspondente à mensagem com cabeçalho e retorna a sequência de bits de verificação que devem ser colocados no final do quadro</li>\n",
    "    <li>**verificaCRC()**, que faz o inverso do primeiro método, recebe um quadro já com os bits de verificação e realiza verificação, retornando uma variável booleana de acordo com o resultado da verificação</li>\n",
    "</ul>\n",
    "A entrada dessas funções deve ser feita no formato que o Python trata números binários, que é representado por '0b' seguido dos bits. O calculo realizado na geração do CRC é composto dos seguintes passos:\n",
    "<ol>\n",
    "    <li>Concatenar a quantidade de '0' correspondente ao grau do polinômio. Por exemplo, um polinômio '1001' exigiria que fosse concatenado três '0' ao final do quadro antes de começar o cálculo</li>\n",
    "    <li>Realizar o XOR bit-a-bit do resultado do primeiro passo com o polinômio gerador</li>\n",
    "</ol>\n",
    "O resultado dessa sequência de passos é o código CRC. Note que o código CRC deve ter a mesma quantidade de bits que o grau do polinômio, portanto são aceitos zeros à esquerda para preenchimento. Por exemplo, para um polinômio '1001' a função deve retornar um código CRC de 3 bits, já que o grau do polinômio é 3. <br>\n",
    "Já para realizar a verificação do CRC só é necessário passar o quadro com o código CRC no final e realizar o XOR bit-a-bit novamente e então verificar se o novo código gerado é composto apenas por zeros. <br>\n",
    "Como essas duas funções compartilhavam o calcúlo do XOR com o polinômio gerador, uma terceira função foi criada para realizar esse cálculo, essa função é a **calculaCRC()**, que recebe uma lista de bits e retorna o resultado do XOR desses bits com o polinomio gerador.\n"
   ]
  },
  {
   "cell_type": "code",
   "execution_count": 2,
   "metadata": {},
   "outputs": [],
   "source": [
    "class CRC:\n",
    "    polinomio = None\n",
    "    polinomioDecimal = None\n",
    "    grauPolinomio = None\n",
    "    \n",
    "    def __init__(self, polinomio = POLINOMIO):\n",
    "        self.polinomio = polinomio\n",
    "        self.polinomioDecimal = int(self.polinomio, base=2)\n",
    "        self.grauPolinomio = len(self.polinomio) - 1\n",
    "        \n",
    "    # Entrada: mensagem com bits de verificação inclusos (exemplo: \"0b1110111101\")\n",
    "    # Retorna True se o resultado do CRC for 0\n",
    "    def verificaCRC(self, mensagem):\n",
    "        print(mensagem)\n",
    "        mensagem = list(mensagem[2:])\n",
    "        resultado = \"0b\" + ''.join(self.calculaCRC(mensagem))\n",
    "        if(int(resultado, base = 2) == 0):\n",
    "            return True\n",
    "        return False\n",
    "\n",
    "    # Entrada: um valor binario (exemplo: '0b110100101001')\n",
    "    # Retorna: um binario com a sequencia de bits gerada pelo calculo do CRC (exemplo: '0b01001')\n",
    "    def geraCRC(self, mensagem):\n",
    "        mensagem = list(mensagem[2:] + ('0' * self.grauPolinomio))\n",
    "        retorno = \"0b\" + ''.join(self.calculaCRC(mensagem))\n",
    "        return retorno\n",
    "\n",
    "    # Entrada: recebe uma lista de caracteres com valores de 1 e 0 (exemplo: ['1', '0', '1'])\n",
    "    # Retorna: lista com caracteres de valores 1 ou 0 (exemplo: ['1', '0', '1'])\n",
    "    def calculaCRC(self, mensagem):\n",
    "        for i in range(len(mensagem) - self.grauPolinomio):\n",
    "            if(mensagem[i] == '1'):\n",
    "                for j in range(len(self.polinomio)):\n",
    "                    bitMensagem = int(mensagem[i + j])\n",
    "                    bitPolinomio = int(self.polinomio[j])\n",
    "                    mensagem[i + j] = str(bitMensagem ^ bitPolinomio)\n",
    "\n",
    "        mensagem = mensagem[-self.grauPolinomio:]\n",
    "        return mensagem"
   ]
  },
  {
   "cell_type": "markdown",
   "metadata": {},
   "source": [
    "Para exemplificarmos o funcionamento dessa classe, tomaremos a mensagem \"1101011011\" e o polinômio $x^{4} + x + 1$ em sua forma binária \"10011\". Primeiramente instanciaremos um objeto da classe CRC passando o polinômio como argumento."
   ]
  },
  {
   "cell_type": "code",
   "execution_count": 4,
   "metadata": {},
   "outputs": [],
   "source": [
    "testeCRC = CRC(\"10011\")"
   ]
  },
  {
   "cell_type": "markdown",
   "metadata": {},
   "source": [
    "Então, podemos gerar o código CRC:"
   ]
  },
  {
   "cell_type": "code",
   "execution_count": 5,
   "metadata": {},
   "outputs": [
    {
     "name": "stdout",
     "output_type": "stream",
     "text": [
      "0b1100\n"
     ]
    }
   ],
   "source": [
    "codigoCRC = testeCRC.geraCRC(\"1101011011\")\n",
    "print(codigoCRC)"
   ]
  },
  {
   "cell_type": "markdown",
   "metadata": {},
   "source": [
    "E com esse resultado, podemos verificar o CRC. A função retornará True se o resultado do XOR bit-a-bit der resultado 0."
   ]
  },
  {
   "cell_type": "code",
   "execution_count": 7,
   "metadata": {},
   "outputs": [
    {
     "name": "stdout",
     "output_type": "stream",
     "text": [
      "11010110111100\n",
      "True\n"
     ]
    }
   ],
   "source": [
    "print(testeCRC.verificaCRC(\"1101011011\" + codigoCRC[2:]))"
   ]
  },
  {
   "cell_type": "markdown",
   "metadata": {},
   "source": [
    "Para comprovar o funcionamento da função podemos alterar um bit da mensagem, simulando um erro na transferência do quadro. Observe que o terceiro bit da mensagem anterior foi alterado de 0 para 1:"
   ]
  },
  {
   "cell_type": "code",
   "execution_count": 8,
   "metadata": {},
   "outputs": [
    {
     "name": "stdout",
     "output_type": "stream",
     "text": [
      "11110110111100\n",
      "False\n"
     ]
    }
   ],
   "source": [
    "print(testeCRC.verificaCRC(\"1111011011\" + codigoCRC[2:]))"
   ]
  }
 ],
 "metadata": {
  "kernelspec": {
   "display_name": "Python 3",
   "language": "python",
   "name": "python3"
  },
  "language_info": {
   "codemirror_mode": {
    "name": "ipython",
    "version": 3
   },
   "file_extension": ".py",
   "mimetype": "text/x-python",
   "name": "python",
   "nbconvert_exporter": "python",
   "pygments_lexer": "ipython3",
   "version": "3.6.5"
  }
 },
 "nbformat": 4,
 "nbformat_minor": 2
}
