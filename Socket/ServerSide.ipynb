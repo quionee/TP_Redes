{
 "cells": [
  {
   "cell_type": "markdown",
   "metadata": {},
   "source": [
    "# Lado Servidor"
   ]
  },
  {
   "cell_type": "markdown",
   "metadata": {},
   "source": [
    "## Importações"
   ]
  },
  {
   "cell_type": "code",
   "execution_count": 5,
   "metadata": {},
   "outputs": [],
   "source": [
    "import socket\n",
    "import sys\n",
    "import random\n",
    "from crc import CRC"
   ]
  },
  {
   "cell_type": "markdown",
   "metadata": {},
   "source": [
    "## Funções Auxiliares"
   ]
  },
  {
   "cell_type": "markdown",
   "metadata": {},
   "source": [
    "Nessa seção serão apresentadas algumas funções auxiliares que, em sua maioria, fazem operações simples mas que foram essências para o funcionamento correto do protocolo criado."
   ]
  },
  {
   "cell_type": "markdown",
   "metadata": {},
   "source": [
    "### Função \"transformaEmBit\""
   ]
  },
  {
   "cell_type": "markdown",
   "metadata": {},
   "source": [
    "Essa função transforma um array de bytes em uma sequência de bits. Cada byte da lista é codificado em oito bits, portanto zeros à esquerda podem ser adicionados para que o retorno fique sempre do tamanho correto."
   ]
  },
  {
   "cell_type": "code",
   "execution_count": 6,
   "metadata": {},
   "outputs": [],
   "source": [
    "# transforma um array de bytes em uma sequencia de bits\n",
    "# entrada: lista de bytes\n",
    "# retorno: sequência binária, onde cada byte da lista é codificada em oito bits\n",
    "def transformaEmBit(listaBytes):\n",
    "    resultado = \"0b\"\n",
    "\n",
    "    for item in listaBytes:\n",
    "        item = bin(int(str(item.hex()), 16))[2:]\n",
    "\n",
    "        while(len(item) < 8):\n",
    "            item = \"0\" + item\n",
    "        resultado += item\n",
    "\n",
    "    return resultado"
   ]
  },
  {
   "cell_type": "markdown",
   "metadata": {},
   "source": [
    "Exemplo de funcionamento:"
   ]
  },
  {
   "cell_type": "code",
   "execution_count": 3,
   "metadata": {},
   "outputs": [
    {
     "ename": "SyntaxError",
     "evalue": "invalid syntax (<ipython-input-3-6c48ec6e68aa>, line 1)",
     "output_type": "error",
     "traceback": [
      "\u001b[0;36m  File \u001b[0;32m\"<ipython-input-3-6c48ec6e68aa>\"\u001b[0;36m, line \u001b[0;32m1\u001b[0m\n\u001b[0;31m    print(transformaEmBit([ GENTE COLOCA UM TESTE AQUI ]))\u001b[0m\n\u001b[0m                                       ^\u001b[0m\n\u001b[0;31mSyntaxError\u001b[0m\u001b[0;31m:\u001b[0m invalid syntax\n"
     ]
    }
   ],
   "source": [
    "print(transformaEmBit([ GENTE COLOCA UM TESTE AQUI ]))"
   ]
  },
  {
   "cell_type": "markdown",
   "metadata": {},
   "source": [
    "### Função \"leBytes\""
   ]
  },
  {
   "cell_type": "markdown",
   "metadata": {},
   "source": [
    "Essa função lê uma sequência de bytes transmitida por uma conexão. É necessário que seja enviado a quantidade de Bytes a serem lidos."
   ]
  },
  {
   "cell_type": "code",
   "execution_count": 7,
   "metadata": {},
   "outputs": [],
   "source": [
    "# recebe uma sequência de bytes de uma conexão socket\n",
    "# entrada: conexão socket e a quantidade de bytes que serão recebidos\n",
    "# retorno: lista de bytes\n",
    "def leBytes(conexao, qtdBytes):\n",
    "    listaBytes = []\n",
    "\n",
    "    for i in range(qtdBytes):\n",
    "        byteLido = conexao.recv(1)\n",
    "        # adiciona os dados do cabeçalho a uma lista de bytes\n",
    "        listaBytes.append(byteLido)\n",
    "\n",
    "    return listaBytes"
   ]
  },
  {
   "cell_type": "markdown",
   "metadata": {},
   "source": [
    "### Função \"juntaBytes\""
   ]
  },
  {
   "cell_type": "markdown",
   "metadata": {},
   "source": [
    "Essa função recebe uma lista de Bytes e os une, retornando uma sequência de Bytes concatenados."
   ]
  },
  {
   "cell_type": "code",
   "execution_count": 8,
   "metadata": {},
   "outputs": [],
   "source": [
    "# junta todos os bytes de uma lista de bytes\n",
    "# entrada: uma lista de bytes\n",
    "# retorno: uma sequência de bytes\n",
    "def juntaBytes(listaDeBytes):\n",
    "    resultado = b''\n",
    "\n",
    "    for byte in listaDeBytes:\n",
    "        resultado += byte\n",
    "\n",
    "    return resultado"
   ]
  },
  {
   "cell_type": "markdown",
   "metadata": {},
   "source": [
    "Exemplo de funcionamento:"
   ]
  },
  {
   "cell_type": "code",
   "execution_count": null,
   "metadata": {},
   "outputs": [],
   "source": [
    "print(juntaBytes( [ GENTE COLOCAR UMA LISTA DE BYTES ] ))"
   ]
  },
  {
   "cell_type": "markdown",
   "metadata": {},
   "source": [
    "## Servidor"
   ]
  },
  {
   "cell_type": "markdown",
   "metadata": {},
   "source": [
    "No lado do servidor a primeira coisa feita é instanciar algumas constantes que são:\n",
    "<ul>\n",
    "    <li>**HOST** (endereço IP do servidor)</li>\n",
    "    <li>**PORT** (a porta a qual ele escutará)</li>\n",
    "</ul>\n",
    "Depois disso, o socket do servidor é iniciado e ele entra em um loop para escutar a porta especificada. Quando um cliente envia uma requisição\n"
   ]
  },
  {
   "cell_type": "code",
   "execution_count": null,
   "metadata": {},
   "outputs": [
    {
     "name": "stdout",
     "output_type": "stream",
     "text": [
      "\n",
      "mensagem completa: \n",
      "Mensagem: oioioio\n"
     ]
    }
   ],
   "source": [
    "# import socket\n",
    "def main(args):\n",
    "    # flag delimitadora (\"~\")\n",
    "    DELIMITADOR = bytes.fromhex('7e')\n",
    "\n",
    "    # host padrão\n",
    "    HOST = '127.0.0.1'\n",
    "\n",
    "    # se os IPs foram passados como argumentos, são atribuídos às suas respectivas variáveis\n",
    "#     if(len(args) > 1):\n",
    "#         print(args[1])\n",
    "#         HOST = args[1]\n",
    "        \n",
    "    PORT = 50017\n",
    "\n",
    "    # inicializa o socket do servidor\n",
    "    sock = socket.socket(socket.AF_INET, socket.SOCK_STREAM)\n",
    "    sock.setsockopt(socket.SOL_SOCKET, socket.SO_REUSEADDR, 1)\n",
    "    sock.bind((HOST, PORT))\n",
    "    sock.listen(1)\n",
    "\n",
    "    while True:\n",
    "        conexao, addr = sock.accept()\n",
    "\n",
    "        fimMensagem = False\n",
    "\n",
    "        # mensagem enviada pelo usuário\n",
    "        mensagemCompleta = ''\n",
    "\n",
    "        # o último número de sequência recebido\n",
    "        ultimoRecebido = '0b10000000'\n",
    "\n",
    "        print('')\n",
    "        # o loop termina quando a mensagem for totalmente enviada\n",
    "        while (not fimMensagem):\n",
    "            cabecalho = b''\n",
    "            cabecalho += conexao.recv(1)\n",
    "\n",
    "            if(len(cabecalho) <= 0):\n",
    "                fimMensagem = True\n",
    "                continue\n",
    "\n",
    "            # lista com todos os bytes recebidos\n",
    "            listaBytes = leBytes(conexao, 10)\n",
    "\n",
    "            # cabeçalho é o conjunto dos 11 primeiros bytes recebidos\n",
    "            cabecalho += juntaBytes(listaBytes)\n",
    "\n",
    "            # o tamanho da mensagem contida no quadro é o segundo byte\n",
    "            tamanhoDados = cabecalho[1]\n",
    "\n",
    "            # recebe os bytes da mensagem\n",
    "            listaDados = leBytes(conexao, tamanhoDados)\n",
    "            listaBytes += listaDados\n",
    "            dados = b'' + juntaBytes(listaDados)\n",
    "\n",
    "            # recebe o codigo CRC gerado pelo cliente\n",
    "            # e o adiciona à lista de bytes\n",
    "            codigoCRC = conexao.recv(1)\n",
    "            listaBytes.append(codigoCRC)\n",
    "            codigoCRC = conexao.recv(1)\n",
    "            listaBytes.append(codigoCRC)\n",
    "\n",
    "            # transforma a lista de bytes em sequências binárias, \n",
    "            # completando com zeros à esquerda para que sejam sequências de 8 bits\n",
    "            mensagemBin = transformaEmBit(listaBytes)\n",
    "\n",
    "            # simulador de erro de transmissão com 5% de chance de alteração de um bit do quadro\n",
    "            if(random.random() > 0.95):\n",
    "                print(\"Invertendo\")\n",
    "                posicao = random.randrange(0, tamanhoDados)\n",
    "                mensagemBin = list(mensagemBin)\n",
    "                mensagemBin[posicao] = bin(int(mensagemBin[posicao]) ^ 0x01)[2:]\n",
    "            \n",
    "            # verifica o CRC da mensagem\n",
    "            crc = CRC()\n",
    "            sequenciaACK = bytes([(cabecalho[2] & 0x80) + 1])\n",
    "\n",
    "            # verifica se o número de sequência do último quadro recebido \n",
    "            # é diferente do quadro atual\n",
    "            # também verifica (utilizando CRC) se os dados da mensagem foram corrompidos\n",
    "            if((int(ultimoRecebido, 2) ^ (cabecalho[2] & 0x80)) and crc.verificaCRC(mensagemBin)):\n",
    "                print(\"mensagem completa:\", mensagemCompleta)\n",
    "                mensagemCompleta += dados.decode(\"ascii\")\n",
    "                ultimoRecebido = bin(int(ultimoRecebido, 2) ^ 0x80)\n",
    "            # caso alguma das duas verificações seja falsa, reenvia o ack do último quadro recebido\n",
    "            else:\n",
    "                sequenciaACK = bytes([int.from_bytes(sequenciaACK, byteorder='big') ^ 0x80])\n",
    "\n",
    "            origem = bytes(cabecalho[3:7])\n",
    "            destino = bytes(cabecalho[7:11])\n",
    "            \n",
    "            # monta o cabeçalho de confirmação\n",
    "            confirmacao = DELIMITADOR + sequenciaACK + destino + origem\n",
    "\n",
    "            #tenta enviar a confirmação, se ocorrer algum erro, ignora\n",
    "            try:\n",
    "                conexao.send(confirmacao)\n",
    "            except:\n",
    "                continue\n",
    "\n",
    "        # escreve a mensagem recebida\n",
    "        print(\"Mensagem:\", mensagemCompleta)\n",
    "\n",
    "        # tenta finalizar a conexão, caso ocorra um erro, ignora\n",
    "        try:\n",
    "            conexao.shutdown(socket.SHUT_WR)\n",
    "        except:\n",
    "            continue\n",
    "\n",
    "        # fecha a conexão\n",
    "        conexao.close()\n",
    "\n",
    "main(sys.argv)"
   ]
  }
 ],
 "metadata": {
  "kernelspec": {
   "display_name": "Python 3",
   "language": "python",
   "name": "python3"
  },
  "language_info": {
   "codemirror_mode": {
    "name": "ipython",
    "version": 3
   },
   "file_extension": ".py",
   "mimetype": "text/x-python",
   "name": "python",
   "nbconvert_exporter": "python",
   "pygments_lexer": "ipython3",
   "version": "3.6.5"
  }
 },
 "nbformat": 4,
 "nbformat_minor": 2
}
