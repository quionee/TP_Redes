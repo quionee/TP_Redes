{
 "cells": [
  {
   "cell_type": "code",
   "execution_count": null,
   "metadata": {},
   "outputs": [
    {
     "name": "stdout",
     "output_type": "stream",
     "text": [
      "Connected by ('127.0.0.1', 50902)\n",
      "126\n",
      "Connected by ('127.0.0.1', 50909)\n",
      "126\n",
      "Connected by ('127.0.0.1', 50912)\n",
      "126\n",
      "Connected by ('127.0.0.1', 50914)\n",
      "126\n",
      "Connected by ('127.0.0.1', 50921)\n",
      "oi126\n",
      "Connected by ('127.0.0.1', 50924)\n",
      "hooooo126\n",
      "Connected by ('127.0.0.1', 50931)\n",
      "oi126\n",
      "Connected by ('127.0.0.1', 50932)\n",
      "tudo?126\n",
      "Connected by ('127.0.0.1', 50993)\n",
      "oi126\n",
      "Connected by ('127.0.0.1', 50995)\n",
      "manitoooooooo126\n"
     ]
    }
   ],
   "source": [
    "#!/usr/bin/env python3\n",
    "# -*- coding: utf-8 -*-\n",
    "\n",
    "import socket\n",
    "\n",
    "def main():\n",
    "    # cria um socket com IPv4 e TCP\n",
    "    HOST = '127.0.0.1'\n",
    "    PORT = 50009\n",
    "    sock = socket.socket(socket.AF_INET, socket.SOCK_STREAM)\n",
    "    sock.setsockopt(socket.SOL_SOCKET, socket.SO_REUSEADDR, 1)\n",
    "    sock.bind((HOST, PORT))\n",
    "    sock.listen(1)\n",
    "\n",
    "    mensagemFimTransmissao = \"#exit\"\n",
    "    while True:\n",
    "        conexao, addr = sock.accept()\n",
    "        print('Connected by', addr)\n",
    "        dado = conexao.recv(1024)\n",
    "        print(dado.decode('ascii'))\n",
    "        conexao.sendall('ok'.encode('ascii'))\n",
    "        conexao.shutdown(socket.SHUT_WR)\n",
    "        conexao.close()\n",
    "        if(dado.decode('ascii') == mensagemFimTransmissao):\n",
    "            return\n",
    "\n",
    "main()"
   ]
  },
  {
   "cell_type": "code",
   "execution_count": null,
   "metadata": {},
   "outputs": [],
   "source": []
  },
  {
   "cell_type": "code",
   "execution_count": 1,
   "metadata": {},
   "outputs": [],
   "source": [
    "x = \"oiioioi\""
   ]
  },
  {
   "cell_type": "code",
   "execution_count": 2,
   "metadata": {},
   "outputs": [
    {
     "name": "stdout",
     "output_type": "stream",
     "text": [
      "oiioioi\n"
     ]
    }
   ],
   "source": [
    "print(x)"
   ]
  }
 ],
 "metadata": {
  "kernelspec": {
   "display_name": "Python 3",
   "language": "python",
   "name": "python3"
  },
  "language_info": {
   "codemirror_mode": {
    "name": "ipython",
    "version": 3
   },
   "file_extension": ".py",
   "mimetype": "text/x-python",
   "name": "python",
   "nbconvert_exporter": "python",
   "pygments_lexer": "ipython3",
   "version": "3.6.5"
  }
 },
 "nbformat": 4,
 "nbformat_minor": 2
}
