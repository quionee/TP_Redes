{
 "cells": [
  {
   "cell_type": "markdown",
   "metadata": {},
   "source": [
    "# Comunicação ponto-a-ponto confiável com detecção e correção de erros"
   ]
  },
  {
   "cell_type": "markdown",
   "metadata": {},
   "source": [
    "## Introdução"
   ]
  },
  {
   "cell_type": "markdown",
   "metadata": {},
   "source": [
    "O objetivo desse trabalho é implementar um protocolo confiável para comunicação entre dois computadores usando a linguagem Python. Para demonstrar o funcionamento do código, as células desse notebook devem ser executadas na ordem em que aparecem e dois jupyter-notebooks devem ser abertos, um para ser o servidor e outro para ser o cliente. <br>\n",
    "O protocolo implementado emprega a transmissão *stop-and-wait* onde o emissor envia um quadro e aguarda a confirmação do receptor antes de enviar o próximo. Para a detecção de erros foi implementado o método *Cyclic Redundancy Check* (CRC), ou, em tradução livre, Verificação Cíclica de Redundância.\n"
   ]
  },
  {
   "cell_type": "markdown",
   "metadata": {},
   "source": [
    "## Funções Auxiliares e Importações"
   ]
  },
  {
   "cell_type": "code",
   "execution_count": 1,
   "metadata": {},
   "outputs": [],
   "source": [
    "import socket\n",
    "import sys\n",
    "import random\n",
    "import binascii\n",
    "import copy\n",
    "import time\n",
    "import os\n",
    "import signal"
   ]
  },
  {
   "cell_type": "markdown",
   "metadata": {},
   "source": [
    "Nessa seção serão apresentadas algumas funções auxiliares que, em sua maioria, fazem operações simples mas que foram essências para o funcionamento correto do protocolo criado."
   ]
  },
  {
   "cell_type": "markdown",
   "metadata": {},
   "source": [
    "### Função \"transformaEmBit\""
   ]
  },
  {
   "cell_type": "markdown",
   "metadata": {},
   "source": [
    "Essa função transforma um array de bytes em uma sequência de bits. Cada byte da lista é codificado em oito bits, portanto zeros à esquerda podem ser adicionados para que o retorno fique sempre do tamanho correto."
   ]
  },
  {
   "cell_type": "code",
   "execution_count": 2,
   "metadata": {},
   "outputs": [],
   "source": [
    "# transforma um array de bytes em uma sequencia de bits\n",
    "# entrada: lista de bytes\n",
    "# retorno: sequência binária, onde cada byte da lista é codificada em oito bits\n",
    "def transformaEmBit(listaBytes):\n",
    "    resultado = \"0b\"\n",
    "\n",
    "    for item in listaBytes:\n",
    "        item = bin(int(str(item.hex()), 16))[2:]\n",
    "\n",
    "        while(len(item) < 8):\n",
    "            item = \"0\" + item\n",
    "        resultado += item\n",
    "\n",
    "    return resultado"
   ]
  },
  {
   "cell_type": "markdown",
   "metadata": {},
   "source": [
    "### Função \"leBytes\""
   ]
  },
  {
   "cell_type": "markdown",
   "metadata": {},
   "source": [
    "Essa função lê uma sequência de bytes transmitida por uma conexão. É necessário que seja enviado a quantidade de Bytes a serem lidos."
   ]
  },
  {
   "cell_type": "code",
   "execution_count": 3,
   "metadata": {},
   "outputs": [],
   "source": [
    "# recebe uma sequência de bytes de uma conexão socket\n",
    "# entrada: conexão socket e a quantidade de bytes que serão recebidos\n",
    "# retorno: lista de bytes\n",
    "def leBytes(conexao, qtdBytes):\n",
    "    listaBytes = []\n",
    "\n",
    "    for i in range(qtdBytes):\n",
    "        byteLido = conexao.recv(1)\n",
    "        # adiciona os dados do cabeçalho a uma lista de bytes\n",
    "        listaBytes.append(byteLido)\n",
    "\n",
    "    return listaBytes"
   ]
  },
  {
   "cell_type": "markdown",
   "metadata": {},
   "source": [
    "### Função \"juntaBytes\""
   ]
  },
  {
   "cell_type": "markdown",
   "metadata": {},
   "source": [
    "Essa função recebe uma lista de Bytes e os une, retornando uma sequência de Bytes concatenados."
   ]
  },
  {
   "cell_type": "code",
   "execution_count": 4,
   "metadata": {},
   "outputs": [],
   "source": [
    "# junta todos os bytes de uma lista de bytes\n",
    "# entrada: uma lista de bytes\n",
    "# retorno: uma sequência de bytes\n",
    "def juntaBytes(listaDeBytes):\n",
    "    resultado = b''\n",
    "\n",
    "    for byte in listaDeBytes:\n",
    "        resultado += byte\n",
    "\n",
    "    return resultado"
   ]
  },
  {
   "cell_type": "markdown",
   "metadata": {},
   "source": [
    "### Classe \"TimeoutError\" ??????????"
   ]
  },
  {
   "cell_type": "code",
   "execution_count": 5,
   "metadata": {},
   "outputs": [],
   "source": [
    "# classe utilizada no cálculo do time-out para tratamento de exceção\n",
    "class TimeoutError(Exception):\n",
    "    pass"
   ]
  },
  {
   "cell_type": "markdown",
   "metadata": {},
   "source": [
    "### Função \"handle_timeout\""
   ]
  },
  {
   "cell_type": "markdown",
   "metadata": {},
   "source": [
    "Esse função é utilizada no cálculo do *time-out* para tratamento de exceção."
   ]
  },
  {
   "cell_type": "code",
   "execution_count": 6,
   "metadata": {},
   "outputs": [],
   "source": [
    "# função utilizada no cálculo do time-out para tratamento de exceção\n",
    "def handle_timeout(signum, frame):\n",
    "    import errno\n",
    "    raise TimeoutError(os.strerror(errno.ETIME))"
   ]
  },
  {
   "cell_type": "markdown",
   "metadata": {},
   "source": [
    "### Função \"completaASCII\""
   ]
  },
  {
   "cell_type": "markdown",
   "metadata": {},
   "source": [
    "Essa função transforma uma sequência de caracteres para seu valor binário corresponde na tabela ASCII. Cada caractere deve ser transformado em 8 bits, portanto zeros à esquerda podem ser necessários para manter o padrão de retorno."
   ]
  },
  {
   "cell_type": "code",
   "execution_count": 7,
   "metadata": {},
   "outputs": [],
   "source": [
    "# converte um texto para uma sequência binária, onde cada caractere será transformado em 8 bits\n",
    "# retorno: binario (exemplo: \"0b01101110\")\n",
    "# entrada: texto de caracteres ascii (exemplo: \"abcde f g h ij kl m\")\n",
    "def completaASCII(texto):\n",
    "    listaBinarios = \"0b\"\n",
    "    \n",
    "    for caracter in texto:\n",
    "        # converte de ascii para binario\n",
    "        novoCaracter = bin(int(binascii.hexlify(caracter.encode('ascii')), 16))\n",
    "        novoCaracter = novoCaracter[2:]\n",
    "\n",
    "        # acrescenta 0's a esquerda se necessario para completar os 8 bits de cada\n",
    "        while(len(novoCaracter) < 8):\n",
    "            novoCaracter = \"0\" + novoCaracter\n",
    "\n",
    "        listaBinarios += novoCaracter\n",
    "\n",
    "    return listaBinarios"
   ]
  },
  {
   "cell_type": "markdown",
   "metadata": {},
   "source": [
    "### Função \"converteIPParaBinario\""
   ]
  },
  {
   "cell_type": "markdown",
   "metadata": {},
   "source": [
    "Essa função recebe uma lista com os 4 bytes de um IPv4 e retorna essa mesma lista com o valor dos campos em binário."
   ]
  },
  {
   "cell_type": "code",
   "execution_count": 8,
   "metadata": {},
   "outputs": [],
   "source": [
    "# converte os decimais do endereço IP para sequências de binários\n",
    "# entrada: lista com endereço IP (exemplo: ['127','0','0','1'])\n",
    "# retorno: lista com endereço IP em binário com 8 bits cada\n",
    "#          (exemplo: ['0b01111111','0b00000000','0b00000000','0b00000001'])\n",
    "def converteIpParaBinario(ip):\n",
    "    for i in range(len(ip)):\n",
    "        print(ip[i])\n",
    "#         ip[i] = bin(int(ip[i]))[2:]\n",
    "\n",
    "#         while(len(ip[i]) < 8):\n",
    "#             ip[i] = \"0\" + ip[i]\n",
    "#         ip[i] = \"0b\" + ip[i]\n",
    "\n",
    "    return ip"
   ]
  },
  {
   "cell_type": "markdown",
   "metadata": {},
   "source": [
    "###  Função \"uneBytes\""
   ]
  },
  {
   "cell_type": "markdown",
   "metadata": {},
   "source": [
    "Esse função recebe uma lista de números binários e os concatena da forma correta. Ela pode ser usada, por exemplo para unir os Bytes de um endereço de IPv4."
   ]
  },
  {
   "cell_type": "code",
   "execution_count": 9,
   "metadata": {},
   "outputs": [],
   "source": [
    "# junta em uma única string binária os bytes (codificados em bits) em um array\n",
    "# entrada: lista com endereço IP em binário com 8 bits cada\n",
    "#          (exemplo: ['0b01111111','0b00000000','0b00000000','0b00000001'])\n",
    "# retorno: um binário com todo o endereço IP concatenado\n",
    "#          (exemplo: '0b01111111000000000000000000000001')\n",
    "def uneBytes(bitsEnderecoIp):\n",
    "    novaSequenciaBits = ''\n",
    "\n",
    "    for byte in bitsEnderecoIp:\n",
    "        novaSequenciaBits += byte[2:]\n",
    "\n",
    "    return novaSequenciaBits"
   ]
  },
  {
   "cell_type": "markdown",
   "metadata": {},
   "source": [
    "### Função \"geraQuadro\""
   ]
  },
  {
   "cell_type": "markdown",
   "metadata": {},
   "source": [
    "Essa função recebe todos os campos necessários para a criação do quadro, como o texto que compõe a mensagem, IP de destino, IP de origem e o número de sequência do quadro e retorna o quadro codificado em Bytes."
   ]
  },
  {
   "cell_type": "code",
   "execution_count": 10,
   "metadata": {},
   "outputs": [],
   "source": [
    "# gera um quadro para uma sequência de caracteres\n",
    "# entrada: texto original, IP de origem, IP de destino, número de sequência do quadro\n",
    "# retorno: quadro codificado em bytes\n",
    "def geraQuadro(texto, ipOrigem, ipDestino, bitNumeroSequencia):\n",
    "    # flag delimitador (\"~\")\n",
    "    DELIMITADOR = \"0b01111110\"\n",
    "\n",
    "    # tamanho do texto de entrada\n",
    "    tamanho = bin(len(texto))\n",
    "    tamanho = tamanho[2:]\n",
    "\n",
    "    # deixa o tamanho com 8 bits\n",
    "    while(len(tamanho) < 8):\n",
    "        tamanho = \"0\" + tamanho\n",
    "    tamanho = \"0b\" + tamanho\n",
    "\n",
    "    # deixa cada caractere do texto com 8 bits e junta os bits do texto\n",
    "    bitsTexto = completaASCII(texto)\n",
    "\n",
    "    # byte da sequencia-ack codificado em binário\n",
    "    sequenciaACK = \"0b\" + bitNumeroSequencia + \"0000000\"\n",
    "\n",
    "    destino = converteIpParaBinario(ipDestino)\n",
    "    origem = converteIpParaBinario(ipOrigem)\n",
    "\n",
    "    # junta os bytes do endereco de origem\n",
    "    bitsEnderecoOrigem = \"0b\" + uneBytes(origem)\n",
    "\n",
    "    # junta os bytes do endereco de destino\n",
    "    bitsEnderecoDestino = \"0b\" + uneBytes(destino)\n",
    "\n",
    "    # junta todos os bits a serem enviados, exceto o delimitador\n",
    "    mensagem =  tamanho + sequenciaACK[2:] + bitsEnderecoDestino[2:] \n",
    "    mensagem += bitsEnderecoOrigem[2:] + bitsTexto[2:]\n",
    "\n",
    "    # calcula o crc com a sequencia de bytes (\"0's a esquerda sao incluídos\")\n",
    "    crc = CRC()\n",
    "    mensagem = DELIMITADOR + mensagem[2:] + crc.geraCRC(mensagem)[2:]\n",
    "    mensagem = mensagem[2:]\n",
    "\n",
    "    # converte o resultado retornado pelo CRC em bytes (codificados em bits) separados\n",
    "    mensagemSeparada = []\n",
    "    i = 0\n",
    "    while(i < len(mensagem)):\n",
    "        novaMensagem = \"0b\"\n",
    "        novaMensagem += mensagem[i:(i + 8)]\n",
    "        mensagemSeparada.append(novaMensagem)\n",
    "        i += 8\n",
    "\n",
    "    # converte os bytes (codificados em bits), gerados anteriormente, em hexadecimal\n",
    "    # (se necessario acrescenta 0's para que cada byte tenha dois hexas)\n",
    "    for i in range(len(mensagemSeparada)):\n",
    "        mensagemSeparada[i] = str(hex(int(mensagemSeparada[i], 2)))[2:]\n",
    "        while(len(mensagemSeparada[i]) < 2):\n",
    "            mensagemSeparada[i] = \"0\" + mensagemSeparada[i] \n",
    "\n",
    "    # une todos os hexas (e consegue um Brasil hexa-campeão)\n",
    "    mensagem = \"\"\n",
    "    for item in mensagemSeparada:\n",
    "        mensagem += item\n",
    "\n",
    "    # converte os hexadecimais em um conjunto de bytes\n",
    "    mensagem = bytes.fromhex(mensagem)\n",
    "\n",
    "    return mensagem"
   ]
  },
  {
   "cell_type": "markdown",
   "metadata": {},
   "source": [
    "### Função \"divideTexto\""
   ]
  },
  {
   "cell_type": "markdown",
   "metadata": {},
   "source": [
    "Essa função divide o texto de entrada de acordo com o tamanho máximo especificado (*TAM_DADOS*) e retorna uma lista com as partições do texto dividido."
   ]
  },
  {
   "cell_type": "code",
   "execution_count": 11,
   "metadata": {},
   "outputs": [],
   "source": [
    "# divide um texto em varios, cada um com tamanho máximo TAM_DADOS\n",
    "# entrada: mensagem a ser dividida (exemplo: 'ab c e d f s ddsg g')\n",
    "#          e a quantidade de caracteres máxima de cada partição\n",
    "# retorno: lista com partições de texto divididas\n",
    "def divideTexto(texto, TAM_DADOS):\n",
    "    mensagens = []\n",
    "    posicao = 0\n",
    "    \n",
    "    while(posicao < len(texto)):\n",
    "        if((posicao + TAM_DADOS) < len(texto)):\n",
    "            mensagens.append(texto[posicao:posicao + TAM_DADOS])\n",
    "        else:\n",
    "            mensagens.append(texto[posicao:])\n",
    "        posicao += TAM_DADOS\n",
    "    \n",
    "    return mensagens"
   ]
  },
  {
   "cell_type": "markdown",
   "metadata": {},
   "source": [
    "## Detecção de Erros "
   ]
  },
  {
   "cell_type": "markdown",
   "metadata": {},
   "source": [
    "Para a detecção de erros foi usado o método *Cyclic Redundancy Check* (CRC), ou, em tradução livre, Verificação Cíclica de Redundância com o polinômio: \n",
    "$$x^{16} + x^{15} + x^{2} + 1$$\n",
    "Para facilitar sua posterior modificação, o polinômio em sua forma binária foi instanciado como uma constante:"
   ]
  },
  {
   "cell_type": "code",
   "execution_count": 12,
   "metadata": {},
   "outputs": [],
   "source": [
    "POLINOMIO = \"11000000000000101\""
   ]
  },
  {
   "cell_type": "markdown",
   "metadata": {},
   "source": [
    "Foi criada uma classe para controle do CRC que tem como atributos o polinômio e seu grau. Os métodos dessa classe são basicamente dois:\n",
    "<ul>\n",
    "    <li>**geraCRC()**, que recebe uma sequência de bits correspondente à mensagem com cabeçalho e retorna a sequência de bits de verificação que devem ser colocados no final do quadro</li>\n",
    "    <li>**verificaCRC()**, que faz o inverso do primeiro método, recebe um quadro já com os bits de verificação e realiza verificação, retornando uma variável booleana de acordo com o resultado da verificação</li>\n",
    "</ul>\n",
    "A entrada dessas funções deve ser feita no formato que o Python trata números binários, que é representado por '0b' seguido dos bits. O calculo realizado na geração do CRC é composto dos seguintes passos:\n",
    "<ol>\n",
    "    <li>Concatenar a quantidade de '0' correspondente ao grau do polinômio. Por exemplo, um polinômio '1001' exigiria que fosse concatenado três '0' ao final do quadro antes de começar o cálculo</li>\n",
    "    <li>Realizar o XOR bit-a-bit do resultado do primeiro passo com o polinômio gerador</li>\n",
    "</ol>\n",
    "O resultado dessa sequência de passos é o código CRC. Note que o código CRC deve ter a mesma quantidade de bits que o grau do polinômio, portanto são aceitos zeros à esquerda para preenchimento. Por exemplo, para um polinômio '1001' a função deve retornar um código CRC de 3 bits, já que o grau do polinômio é 3. <br>\n",
    "Já para realizar a verificação do CRC só é necessário passar o quadro com o código CRC no final e realizar o XOR bit-a-bit novamente e então verificar se o novo código gerado é composto apenas por zeros. <br>\n",
    "Como essas duas funções compartilhavam o calcúlo do XOR com o polinômio gerador, uma terceira função foi criada para realizar esse cálculo, essa função é a **calculaCRC()**, que recebe uma lista de bits e retorna o resultado do XOR desses bits com o polinomio gerador.\n"
   ]
  },
  {
   "cell_type": "code",
   "execution_count": null,
   "metadata": {},
   "outputs": [],
   "source": [
    "class CRC:\n",
    "    polinomio = None\n",
    "    polinomioDecimal = None\n",
    "    grauPolinomio = None\n",
    "    \n",
    "    def __init__(self, polinomio = POLINOMIO):\n",
    "        self.polinomio = polinomio\n",
    "        self.polinomioDecimal = int(self.polinomio, base=2)\n",
    "        self.grauPolinomio = len(self.polinomio) - 1\n",
    "        \n",
    "    # Entrada: mensagem com bits de verificação inclusos (exemplo: \"0b1110111101\")\n",
    "    # Retorna True se o resultado do CRC for 0\n",
    "    def verificaCRC(self, mensagem):\n",
    "        print(mensagem)\n",
    "        mensagem = list(mensagem[2:])\n",
    "        resultado = \"0b\" + ''.join(self.calculaCRC(mensagem))\n",
    "        if(int(resultado, base = 2) == 0):\n",
    "            return True\n",
    "        return False\n",
    "\n",
    "    # Entrada: um valor binario (exemplo: '0b110100101001')\n",
    "    # Retorna: um binario com a sequencia de bits gerada pelo calculo do CRC (exemplo: '0b01001')\n",
    "    def geraCRC(self, mensagem):\n",
    "        mensagem = list(mensagem[2:] + ('0' * self.grauPolinomio))\n",
    "        retorno = \"0b\" + ''.join(self.calculaCRC(mensagem))\n",
    "        return retorno\n",
    "\n",
    "    # Entrada: recebe uma lista de caracteres com valores de 1 e 0 (exemplo: ['1', '0', '1'])\n",
    "    # Retorna: lista com caracteres de valores 1 ou 0 (exemplo: ['1', '0', '1'])\n",
    "    def calculaCRC(self, mensagem):\n",
    "        for i in range(len(mensagem) - self.grauPolinomio):\n",
    "            if(mensagem[i] == '1'):\n",
    "                for j in range(len(self.polinomio)):\n",
    "                    bitMensagem = int(mensagem[i + j])\n",
    "                    bitPolinomio = int(self.polinomio[j])\n",
    "                    mensagem[i + j] = str(bitMensagem ^ bitPolinomio)\n",
    "\n",
    "        mensagem = mensagem[-self.grauPolinomio:]\n",
    "        return mensagem"
   ]
  },
  {
   "cell_type": "markdown",
   "metadata": {},
   "source": [
    "## Lado Servidor "
   ]
  },
  {
   "cell_type": "markdown",
   "metadata": {},
   "source": [
    "No lado do servidor a primeira coisa feita é instanciar algumas constantes que são:\n",
    "<ul>\n",
    "    <li>**HOST** (endereço IP do servidor)</li>\n",
    "    <li>**PORT** (a porta a qual ele escutará)</li>\n",
    "</ul>\n",
    "Depois disso, o socket do servidor é iniciado e ele entra em um loop para escutar a porta especificada. Quando um cliente envia uma requisição\n"
   ]
  },
  {
   "cell_type": "code",
   "execution_count": null,
   "metadata": {},
   "outputs": [
    {
     "name": "stdout",
     "output_type": "stream",
     "text": [
      "-f\n",
      "\n",
      "0b00000100000000000111111100000000000000000000000101111111000000000000000000000001011011110110100101101111011010011000111000110001\n",
      "mensagem completa: \n",
      "Mensagem: oioi\n"
     ]
    }
   ],
   "source": [
    "# import socket\n",
    "def main(args):\n",
    "    # flag delimitadora (\"~\")\n",
    "    DELIMITADOR = bytes.fromhex('7e')\n",
    "\n",
    "    # host padrão\n",
    "    HOST = '127.0.0.1'\n",
    "\n",
    "    # se os IPs foram passados como argumentos, são atribuídos às suas respectivas variáveis\n",
    "#     if(len(args) > 1):\n",
    "#         print(args[1])\n",
    "#         HOST = args[1]\n",
    "        \n",
    "    PORT = 50017\n",
    "\n",
    "    # inicializa o socket do servidor\n",
    "    sock = socket.socket(socket.AF_INET, socket.SOCK_STREAM)\n",
    "    sock.setsockopt(socket.SOL_SOCKET, socket.SO_REUSEADDR, 1)\n",
    "    sock.bind((HOST, PORT))\n",
    "    sock.listen(1)\n",
    "\n",
    "    while True:\n",
    "        conexao, addr = sock.accept()\n",
    "\n",
    "        fimMensagem = False\n",
    "\n",
    "        # mensagem enviada pelo usuário\n",
    "        mensagemCompleta = ''\n",
    "\n",
    "        # o último número de sequência recebido\n",
    "        ultimoRecebido = '0b10000000'\n",
    "\n",
    "        print('')\n",
    "        # o loop termina quando a mensagem for totalmente enviada\n",
    "        while (not fimMensagem):\n",
    "            cabecalho = b''\n",
    "            cabecalho += conexao.recv(1)\n",
    "\n",
    "            if(len(cabecalho) <= 0):\n",
    "                fimMensagem = True\n",
    "                continue\n",
    "\n",
    "            # lista com todos os bytes recebidos\n",
    "            listaBytes = leBytes(conexao, 10)\n",
    "\n",
    "            # cabeçalho é o conjunto dos 11 primeiros bytes recebidos\n",
    "            cabecalho += juntaBytes(listaBytes)\n",
    "\n",
    "            # o tamanho da mensagem contida no quadro é o segundo byte\n",
    "            tamanhoDados = cabecalho[1]\n",
    "\n",
    "            # recebe os bytes da mensagem\n",
    "            listaDados = leBytes(conexao, tamanhoDados)\n",
    "            listaBytes += listaDados\n",
    "            dados = b'' + juntaBytes(listaDados)\n",
    "\n",
    "            # recebe o codigo CRC gerado pelo cliente\n",
    "            # e o adiciona à lista de bytes\n",
    "            codigoCRC = conexao.recv(1)\n",
    "            listaBytes.append(codigoCRC)\n",
    "            codigoCRC = conexao.recv(1)\n",
    "            listaBytes.append(codigoCRC)\n",
    "\n",
    "            # transforma a lista de bytes em sequências binárias, \n",
    "            # completando com zeros à esquerda para que sejam sequências de 8 bits\n",
    "            mensagemBin = transformaEmBit(listaBytes)\n",
    "\n",
    "            # simulador de erro de transmissão com 5% de chance de alteração de um bit do quadro\n",
    "            if(random.random() > 0.95):\n",
    "                print(\"Invertendo\")\n",
    "                posicao = random.randrange(0, tamanhoDados)\n",
    "                mensagemBin = list(mensagemBin)\n",
    "                mensagemBin[posicao] = bin(int(mensagemBin[posicao]) ^ 0x01)[2:]\n",
    "            \n",
    "            # verifica o CRC da mensagem\n",
    "            crc = CRC()\n",
    "            sequenciaACK = bytes([(cabecalho[2] & 0x80) + 1])\n",
    "\n",
    "            # verifica se o número de sequência do último quadro recebido \n",
    "            # é diferente do quadro atual\n",
    "            # também verifica (utilizando CRC) se os dados da mensagem foram corrompidos\n",
    "            if((int(ultimoRecebido, 2) ^ (cabecalho[2] & 0x80)) and crc.verificaCRC(mensagemBin)):\n",
    "                print(\"mensagem completa:\", mensagemCompleta)\n",
    "                mensagemCompleta += dados.decode(\"ascii\")\n",
    "                ultimoRecebido = bin(int(ultimoRecebido, 2) ^ 0x80)\n",
    "            # caso alguma das duas verificações seja falsa, reenvia o ack do último quadro recebido\n",
    "            else:\n",
    "                sequenciaACK = bytes([int.from_bytes(sequenciaACK, byteorder='big') ^ 0x80])\n",
    "\n",
    "            origem = bytes(cabecalho[3:7])\n",
    "            destino = bytes(cabecalho[7:11])\n",
    "            \n",
    "            # monta o cabeçalho de confirmação\n",
    "            confirmacao = DELIMITADOR + sequenciaACK + destino + origem\n",
    "\n",
    "            #tenta enviar a confirmação, se ocorrer algum erro, ignora\n",
    "            try:\n",
    "                conexao.send(confirmacao)\n",
    "            except:\n",
    "                continue\n",
    "\n",
    "        # escreve a mensagem recebida\n",
    "        print(\"Mensagem:\", mensagemCompleta)\n",
    "\n",
    "        # tenta finalizar a conexão, caso ocorra um erro, ignora\n",
    "        try:\n",
    "            conexao.shutdown(socket.SHUT_WR)\n",
    "        except:\n",
    "            continue\n",
    "\n",
    "        # fecha a conexão\n",
    "        conexao.close()\n",
    "\n",
    "main(sys.argv)"
   ]
  },
  {
   "cell_type": "markdown",
   "metadata": {},
   "source": [
    "## Lado Cliente "
   ]
  },
  {
   "cell_type": "code",
   "execution_count": null,
   "metadata": {},
   "outputs": [],
   "source": [
    "# entrada: IP de origem e IP de destino (opcionais)\n",
    "def main(args):\n",
    "    # tamanho limite de dados do quadro\n",
    "    TAM_DADOS = 255\n",
    "\n",
    "    # ip da maquina de destino\n",
    "    ipDestino = \"127.0.0.1\"\n",
    "    # ip da maquina de origem\n",
    "    ipOrigem = \"127.0.0.1\"\n",
    "\n",
    "    # verifica se foram passados argumentos\n",
    "    if(len(args) == 2):\n",
    "        print(\"Número de argumentos inválido. Use zero ou dois argumentos.\")\n",
    "        return\n",
    "\n",
    "    # se os IPs foram passados como argumentos, são atribuídos às suas respectivas variáveis\n",
    "    if(len(args) > 1):\n",
    "        ipOrigem = args[1]\n",
    "        ipDestino = args[2]\n",
    "    \n",
    "    HOST = ipDestino\n",
    "    PORT = 50017\n",
    "    \n",
    "    # divide o ip pelos pontos\n",
    "    ipDestino = ipDestino.split(\".\")\n",
    "    ipOrigem = ipOrigem.split(\".\")\n",
    "\n",
    "    # leitura do texto de entrada\n",
    "    texto = input()\n",
    "\n",
    "    # divide o texto em pedaços\n",
    "    mensagens = divideTexto(texto, TAM_DADOS)\n",
    "\n",
    "    # gera um quadro para cada pedaço do texto\n",
    "    for i in range (len(mensagens)):\n",
    "        mensagens[i] = geraQuadro(mensagens[i], copy.deepcopy(ipOrigem), copy.deepcopy(ipDestino), str(i % 2))\n",
    "\n",
    "    # cria socket e estabelece conexao\n",
    "    sock = socket.socket(socket.AF_INET, socket.SOCK_STREAM)\n",
    "    sock.connect((HOST, PORT))\n",
    "\n",
    "    numeroSequenciaQuadro = 0\n",
    "    i = 0\n",
    "    while(i < len(mensagens)):\n",
    "        # atribui time-out para receber a confirmação da mensagem enviada\n",
    "        signal.signal(signal.SIGALRM, handle_timeout)\n",
    "        signal.alarm(1)\n",
    "\n",
    "        try:\n",
    "            # descomente a linha abaixo para simular estouro do time-out\n",
    "            # time.sleep(0.9987)\n",
    "            sock.send(mensagens[i])\n",
    "\n",
    "            # cancela excecao criada por estouro de tempo\n",
    "            signal.alarm(0)\n",
    "\n",
    "            # recebe resposta\n",
    "            delimitador = sock.recv(1)\n",
    "            sequenciaAckResposta = sock.recv(1)\n",
    "            \n",
    "            origem = sock.recv(4)\n",
    "            destino = sock.recv(4)\n",
    "            \n",
    "            # converte a confirmação da mensagem para número inteiro\n",
    "            sequenciaAckResposta = int(binascii.hexlify(sequenciaAckResposta), 16)\n",
    "\n",
    "            # se o bit da confirmação for zero, significa que ocorreu um erro\n",
    "            # e a mensagem é reenviada\n",
    "            if(not(sequenciaAckResposta & 1)):\n",
    "                print(\"Ocorreu um erro no envio da mensagem: confirmação inválida\")\n",
    "                continue\n",
    "\n",
    "            sequenciaAckResposta = sequenciaAckResposta & 0xf0\n",
    "\n",
    "            # se o ack de confirmação não for referente ao último quadro enviado,\n",
    "            # reenvia o quadro\n",
    "            if(numeroSequenciaQuadro ^ sequenciaAckResposta):\n",
    "                print(\"ACK DUPLICADO\")\n",
    "                continue\n",
    "\n",
    "            # calcula o próximo número de sequência\n",
    "            numeroSequenciaQuadro = numeroSequenciaQuadro ^ 0x80\n",
    "            print(\"OK\")\n",
    "            i += 1\n",
    "\n",
    "        # trata excecao gerada por estouro do time-out\n",
    "        except TimeoutError:\n",
    "            print(\"Perdeu pacote\")\n",
    "\n",
    "        # cancela a excecao gerada por estouro de time-out\n",
    "        finally:\n",
    "            signal.alarm(0)\n",
    "\n",
    "    # finaliza transmissão\n",
    "    sock.shutdown(socket.SHUT_WR)\n",
    "    sock.close()\n",
    "\n",
    "main(sys.argv)"
   ]
  }
 ],
 "metadata": {
  "kernelspec": {
   "display_name": "Python 3",
   "language": "python",
   "name": "python3"
  },
  "language_info": {
   "codemirror_mode": {
    "name": "ipython",
    "version": 3
   },
   "file_extension": ".py",
   "mimetype": "text/x-python",
   "name": "python",
   "nbconvert_exporter": "python",
   "pygments_lexer": "ipython3",
   "version": "3.6.5"
  }
 },
 "nbformat": 4,
 "nbformat_minor": 2
}
