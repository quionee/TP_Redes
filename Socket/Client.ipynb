{
 "cells": [
  {
   "cell_type": "code",
   "execution_count": null,
   "metadata": {},
   "outputs": [
    {
     "name": "stdout",
     "output_type": "stream",
     "text": [
      "5\n",
      "oi\n",
      "Received 'ok'\n",
      "manitoooooooo\n",
      "Received 'ok'\n"
     ]
    }
   ],
   "source": [
    "#!/usr/bin/env python3\n",
    "# -*- coding: utf-8 -*-\n",
    "\n",
    "import socket\n",
    "\n",
    "def main():\n",
    "    # cria um socket com IPv4 e TCP\n",
    "\n",
    "    DELIMITADOR = 0x7e\n",
    "    \n",
    "    mensagem = 'Hello'\n",
    "    tamanho = len(mensagem)\n",
    "    print(tamanho)\n",
    "    \n",
    "    sequenciaACK = 0x00\n",
    "    \n",
    "    destino = 0x7f000001\n",
    "    origem = 0x7f000001\n",
    "    \n",
    "    HOST = '127.0.0.1'\n",
    "    PORT = 50009\n",
    "    dado = b''\n",
    "    codigoFimTransmissao = \"#exit\"\n",
    "    while True:\n",
    "        mensagem = input()\n",
    "        sock = socket.socket(socket.AF_INET, socket.SOCK_STREAM)\n",
    "        sock.connect((HOST, PORT))\n",
    "        sock.sendall(mensagem.encode('ascii'))\n",
    "        sock.send(str(DELIMITADOR).encode('ascii'))\n",
    "        sock.shutdown(socket.SHUT_WR)\n",
    "        buf = sock.recv(1024)\n",
    "        if not buf:\n",
    "            return\n",
    "        dado = buf\n",
    "        sock.close()\n",
    "        print('Received', repr(dado.decode('ascii')))\n",
    "#         break\n",
    "        if(mensagem == codigoFimTransmissao):\n",
    "            return\n",
    "\n",
    "main()"
   ]
  },
  {
   "cell_type": "code",
   "execution_count": null,
   "metadata": {},
   "outputs": [],
   "source": []
  }
 ],
 "metadata": {
  "kernelspec": {
   "display_name": "Python 3",
   "language": "python",
   "name": "python3"
  },
  "language_info": {
   "codemirror_mode": {
    "name": "ipython",
    "version": 3
   },
   "file_extension": ".py",
   "mimetype": "text/x-python",
   "name": "python",
   "nbconvert_exporter": "python",
   "pygments_lexer": "ipython3",
   "version": "3.6.5"
  }
 },
 "nbformat": 4,
 "nbformat_minor": 2
}
